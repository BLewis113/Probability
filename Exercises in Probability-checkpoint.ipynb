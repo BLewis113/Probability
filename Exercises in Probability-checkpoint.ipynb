{
 "cells": [
  {
   "cell_type": "markdown",
   "metadata": {},
   "source": [
    "H =.5, T =.\n",
    "\n",
    "H * T * H * T == .5 ** 4 = .0625 = 6.25%\n",
    "HHHH and TTHH is the same because the conditions are independant "
   ]
  },
  {
   "cell_type": "markdown",
   "metadata": {},
   "source": [
    "24 Women 21 Men \n",
    "\n",
    "If the probability of choosing a man from the list is 21/45 then the probability of not choosing a man is 24/45"
   ]
  },
  {
   "cell_type": "markdown",
   "metadata": {},
   "source": [
    "Bernice travel by plane = 10%\n",
    "Plane crash = .005%\n",
    "\n",
    "Probability that Bernice is in a plane crash is .1 * .00005 = .000005 = .0005% because Bernice getting on the plane and the plane crashing are independant of each other.   "
   ]
  },
  {
   "cell_type": "markdown",
   "metadata": {},
   "source": [
    "Whats wrong with this conclusion is that with every click the chances of getting a survey is increased. People who spend longer times on the site would have a higher chance of recieving the survey. Therefore they would be representated on a much larger scale than those who spend shorter times. "
   ]
  }
 ],
 "metadata": {
  "kernelspec": {
   "display_name": "Python 3",
   "language": "python",
   "name": "python3"
  },
  "language_info": {
   "codemirror_mode": {
    "name": "ipython",
    "version": 3
   },
   "file_extension": ".py",
   "mimetype": "text/x-python",
   "name": "python",
   "nbconvert_exporter": "python",
   "pygments_lexer": "ipython3",
   "version": "3.7.1"
  }
 },
 "nbformat": 4,
 "nbformat_minor": 2
}
